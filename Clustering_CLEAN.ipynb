{
 "cells": [
  {
   "cell_type": "markdown",
   "metadata": {
    "id": "5LdygiKy16pE"
   },
   "source": [
    "# **Installing Libraries**"
   ]
  },
  {
   "cell_type": "code",
   "execution_count": null,
   "metadata": {
    "colab": {
     "base_uri": "https://localhost:8080/"
    },
    "executionInfo": {
     "elapsed": 22939,
     "status": "ok",
     "timestamp": 1728831096405,
     "user": {
      "displayName": "Shaurya Damathia",
      "userId": "14598933962405927679"
     },
     "user_tz": -330
    },
    "id": "R8fPR34Z8nWy",
    "outputId": "41f0681b-ba66-4272-c173-46bd7ebc6c2e"
   },
   "outputs": [],
   "source": [
    "!pip install --upgrade pytube moviepy pydub yt-dlp\n",
    "!pip install Flask"
   ]
  },
  {
   "cell_type": "code",
   "execution_count": null,
   "metadata": {
    "colab": {
     "base_uri": "https://localhost:8080/"
    },
    "executionInfo": {
     "elapsed": 43448,
     "status": "ok",
     "timestamp": 1729423875681,
     "user": {
      "displayName": "Shaurya Damathia",
      "userId": "14598933962405927679"
     },
     "user_tz": -330
    },
    "id": "n6_SsDV98y4D",
    "outputId": "910c492e-8260-46b4-efb3-ef365ec47a9c"
   },
   "outputs": [],
   "source": [
    "!pip install pycaret\n",
    "import pycaret"
   ]
  },
  {
   "cell_type": "code",
   "execution_count": null,
   "metadata": {
    "colab": {
     "base_uri": "https://localhost:8080/",
     "height": 35
    },
    "executionInfo": {
     "elapsed": 446,
     "status": "ok",
     "timestamp": 1729423909005,
     "user": {
      "displayName": "Shaurya Damathia",
      "userId": "14598933962405927679"
     },
     "user_tz": -330
    },
    "id": "lvEDIcOOskmz",
    "outputId": "1fc90882-7e2f-4121-b7b5-70e806f86620"
   },
   "outputs": [],
   "source": [
    "from pycaret.utils import version\n",
    "version()"
   ]
  },
  {
   "cell_type": "code",
   "execution_count": null,
   "metadata": {
    "id": "cGFW0Ny7sst2"
   },
   "outputs": [],
   "source": [
    "import pandas as pd\n",
    "import numpy as np\n",
    "from sklearn.impute import SimpleImputer\n",
    "from sklearn.metrics import silhouette_score, calinski_harabasz_score, davies_bouldin_score"
   ]
  },
  {
   "cell_type": "markdown",
   "metadata": {
    "id": "6-icBAJ82C_M"
   },
   "source": [
    "# **Loading Dataset**"
   ]
  },
  {
   "cell_type": "code",
   "execution_count": null,
   "metadata": {
    "id": "PIHjz-tOsxAZ"
   },
   "outputs": [],
   "source": [
    "data = pd.read_csv('/content/Dataset on Sales Transaction weekly.csv')"
   ]
  },
  {
   "cell_type": "markdown",
   "metadata": {
    "id": "rYq2H3q83BRH"
   },
   "source": [
    "## **Preprocessing the Dataset**"
   ]
  },
  {
   "cell_type": "code",
   "execution_count": null,
   "metadata": {
    "id": "CGXetoPlwwXi"
   },
   "outputs": [],
   "source": [
    "imputer = SimpleImputer(strategy='mean')\n",
    "data = pd.DataFrame(imputer.fit_transform(data), columns=data.columns)"
   ]
  },
  {
   "cell_type": "code",
   "execution_count": null,
   "metadata": {
    "colab": {
     "base_uri": "https://localhost:8080/",
     "height": 273
    },
    "executionInfo": {
     "elapsed": 445,
     "status": "ok",
     "timestamp": 1729425330877,
     "user": {
      "displayName": "Shaurya Damathia",
      "userId": "14598933962405927679"
     },
     "user_tz": -330
    },
    "id": "jKngW7qLyEC1",
    "outputId": "9b9df997-8caf-46c6-cad5-5f639283a4af"
   },
   "outputs": [],
   "source": [
    "data.head()"
   ]
  },
  {
   "cell_type": "markdown",
   "metadata": {
    "id": "ijES2sLe3Kv4"
   },
   "source": [
    "# **Using Clustering**"
   ]
  },
  {
   "cell_type": "code",
   "execution_count": null,
   "metadata": {
    "colab": {
     "base_uri": "https://localhost:8080/",
     "height": 457
    },
    "executionInfo": {
     "elapsed": 8034,
     "status": "ok",
     "timestamp": 1729425358267,
     "user": {
      "displayName": "Shaurya Damathia",
      "userId": "14598933962405927679"
     },
     "user_tz": -330
    },
    "id": "jYetm24YyI3Z",
    "outputId": "4c660fd1-d55e-4e80-dc65-e9b90b61c121"
   },
   "outputs": [],
   "source": [
    "from pycaret.clustering import *\n",
    "kMeanClusteringParameters = setup(data)"
   ]
  },
  {
   "cell_type": "markdown",
   "metadata": {
    "id": "38ImRERX3wKv"
   },
   "source": [
    "# **K means Clustering**"
   ]
  },
  {
   "cell_type": "code",
   "execution_count": null,
   "metadata": {
    "colab": {
     "base_uri": "https://localhost:8080/",
     "height": 1000,
     "referenced_widgets": [
      "15044d42ed9048b4bd121c1b4e70c72c",
      "0e63d687fa5e44f187f886a895b6be90",
      "94cb5dac31764273a80144f20fb33d31",
      "27ee4ea916de47cb9d776795ccf3db65",
      "2843ba3290f74df7bde5485f4a09f65b",
      "7d2c1f49755f46b4971f9290a5d7e368",
      "8e329816de5e4f6bbe8e904b79f59dff",
      "67896dc98e5d4a56a338d69a4bce8d90",
      "8e6cd8d55b384d5e894f548f5967b0ee",
      "31a915de61344ba8be24055c28879857",
      "fda23afb2009479e9d2846734ed61af9",
      "1676ca6a169f49f0b9b274b63ebe39a6",
      "bebb82eb45d344c08b6de85808a3ae41",
      "01986b71bc4d4e07ad82433698f26b9c",
      "84ed77bf737b45dfbc440bd2052f441d",
      "75c7798a96124746bca783c1f2cb9b93",
      "49e8b0c0b2e54d9cabf0482814c38293",
      "c2020e8fb0194c4caf2669f676d739cb",
      "e2ab9b8833fe41f99706c7a380aca0a5",
      "beeaeef36d794f63bb8d90c4886c523a",
      "161c278d32304f4a9b6e8ea75950aa43",
      "e9f33b7b9d124e8590c771010bd73748",
      "6022ef1a44054f6e8504f7ddf5cb60bb",
      "d6e73037048949319013a2699092a04c",
      "b79b92518a684524b669686ce9f2f147",
      "62f8a34d67854a9cb4ebdad18bb31b3c",
      "6081497878b94c81a2dcc9dc2e5c06a5",
      "a3f78e6e183f4d6ab013ba4bb5629768",
      "78740794fa564c1eae4fa0682618ce04",
      "544021feb9d7493da64a48023e5601b3",
      "d66f6583cada455c9d490bf1762eb68b",
      "d70f039cb18c4184a8274fdf0420779b",
      "cc0b0df97887474baf872a0e6fbeb34b"
     ]
    },
    "executionInfo": {
     "elapsed": 11966,
     "status": "ok",
     "timestamp": 1729425398676,
     "user": {
      "displayName": "Shaurya Damathia",
      "userId": "14598933962405927679"
     },
     "user_tz": -330
    },
    "id": "AB4U2MH_yRm1",
    "outputId": "61a61837-7c96-4b74-ee67-d151222cad90"
   },
   "outputs": [],
   "source": [
    "setup(data, verbose=False)\n",
    "r1 = []\n",
    "r2 = []\n",
    "r3 = []\n",
    "\n",
    "print(\"For Cluster = 3\")\n",
    "x = create_model('kmeans', num_clusters = 3)\n",
    "labels=x.fit_predict(data)\n",
    "r1.append(silhouette_score(data,labels))\n",
    "r1.append(calinski_harabasz_score(data,labels))\n",
    "r1.append(davies_bouldin_score(data,labels))\n",
    "\n",
    "print(\"For Cluster = 4\")\n",
    "x = create_model('kmeans', num_clusters = 4)\n",
    "labels=x.fit_predict(data)\n",
    "r2.append(silhouette_score(data,labels))\n",
    "r2.append(calinski_harabasz_score(data,labels))\n",
    "r2.append(davies_bouldin_score(data,labels))\n",
    "\n",
    "print(\"For Cluster = 5\")\n",
    "x = create_model('kmeans', num_clusters = 5)\n",
    "labels=x.fit_predict(data)\n",
    "r3.append(silhouette_score(data,labels))\n",
    "r3.append(calinski_harabasz_score(data,labels))\n",
    "r3.append(davies_bouldin_score(data,labels))\n",
    "\n",
    "plot_model(x, plot = 'cluster')\n",
    "\n",
    "\n",
    "plot_model(x, plot = 'elbow')\n",
    "plot_model(x, plot = 'tsne')"
   ]
  },
  {
   "cell_type": "code",
   "execution_count": null,
   "metadata": {
    "colab": {
     "base_uri": "https://localhost:8080/",
     "height": 1000,
     "referenced_widgets": [
      "fcc1373d13114da5bce51f5e2fc4f801",
      "e19b5dea6dee4531885c9a3c4c4d7bf7",
      "e97f1d78342b4f6580458e927d99339c",
      "2da4798bf7c44bfeb2fbaccfa9c8a516",
      "2155fa2bd38f46bab435c5ba9a4e1862",
      "01a6c593c7cc40ceb34801d41ca477d9",
      "2194f54a8fda47c1a022377a6f53ac39",
      "f42de4ce88ba4b96bcc850d1dd98de91",
      "95a07061ad874977b099bd3289582c85",
      "69c8cd63e63247d5aa5e448f9b73e7a4",
      "bb13c2080dd14612a5cb85df7220c475",
      "4618dd83d2144c89bd6f6b93a7701e79",
      "9c66c4b5aea74893b55547c3538b5c28",
      "09f84e8d6d124534b88393862b13757a",
      "ae3b4612f3224914af4ea31e6b279583",
      "df1dd50baaa443d4aaa777d2206eb5fd",
      "cf197f6ad5fe4682967a9bde87f67cbd",
      "8d689e28734c445baf564903c2b72d6f",
      "fd67bb9537c34761b560dbbad2d9037d",
      "d2b197aa2c634453b12a2c8044bbf919",
      "e30ea55f2d6d4e36a02cd752ab2f0f82",
      "baa2e4fe1c3f449ca9d4c4f66d995c59",
      "990ab55e9ade4f69bb416c463755edc8",
      "c091f3bb77de4150a38d672c393dfdf5",
      "542ed17be1e44931acaeeec66276369c",
      "1722797ba9e546bfaaae8ec36191ccc3",
      "a03d835a0ca140af96118c2cf0bc03c3",
      "81285b46d9414e978e473e31d224904e",
      "5f8d8ef7969b4f28b762b5fa53ddcec5",
      "15549c0dd92848c4ad301e81899e2f9d",
      "81ce237059744893addd82e478d10dcc",
      "a08ea87cc2944b349dd07140dad3e2a5",
      "8d8623b6b1a54698bab3ebece11c1d76"
     ]
    },
    "executionInfo": {
     "elapsed": 12736,
     "status": "ok",
     "timestamp": 1729425529432,
     "user": {
      "displayName": "Shaurya Damathia",
      "userId": "14598933962405927679"
     },
     "user_tz": -330
    },
    "id": "STnZ6AHNyxiS",
    "outputId": "02f95125-0460-4771-c9d0-2cbd396ed3ec"
   },
   "outputs": [],
   "source": [
    "setup(data = data, normalize = True, normalize_method = 'zscore', verbose=False)\n",
    "r4 = []\n",
    "r5 = []\n",
    "r6 = []\n",
    "print(\"Normalized\\n\")\n",
    "print(\"For Cluster = 3\")\n",
    "x = create_model('kmeans', num_clusters = 3)\n",
    "labels=x.fit_predict(data)\n",
    "r4.append(silhouette_score(data,labels))\n",
    "r4.append(calinski_harabasz_score(data,labels))\n",
    "r4.append(davies_bouldin_score(data,labels))\n",
    "\n",
    "print(\"For Cluster = 4\")\n",
    "x = create_model('kmeans', num_clusters = 4)\n",
    "labels=x.fit_predict(data)\n",
    "r5.append(silhouette_score(data,labels))\n",
    "r5.append(calinski_harabasz_score(data,labels))\n",
    "r5.append(davies_bouldin_score(data,labels))\n",
    "\n",
    "print(\"For Cluster = 5\")\n",
    "x = create_model('kmeans', num_clusters = 5)\n",
    "plot_model(x, plot = 'cluster')\n",
    "labels=x.fit_predict(data)\n",
    "r6.append(silhouette_score(data,labels))\n",
    "r6.append(calinski_harabasz_score(data,labels))\n",
    "r6.append(davies_bouldin_score(data,labels))\n",
    "\n",
    "plot_model(x, plot = 'elbow')\n",
    "plot_model(x, plot = 'tsne')"
   ]
  },
  {
   "cell_type": "code",
   "execution_count": null,
   "metadata": {
    "colab": {
     "base_uri": "https://localhost:8080/",
     "height": 1000,
     "referenced_widgets": [
      "365e1966fbb64868b0a4a71771913ba1",
      "c5d82210974f4db1ba232174d26b8bc4",
      "0197d7751fb14b18adaeeae748b042c8",
      "50314822be454fe5b0b0899922dcbcb7",
      "59ed0342e69d44208774b9596ad8050c",
      "3cd3145e2814481ca38c2bf492e0e36b",
      "3bb008ba46ef496eb584f1f8d2ec525f",
      "d6888c345c6c4d85aef5402d2b2dcc68",
      "3ff2c497c2514678990e153f9493248c",
      "36f6e3571ee74af39469cc06df326045",
      "c0c1f4aace5c4935950fa7ded6aca185",
      "453a6d2800f94bddbf597894bd667ead",
      "ec2bbb0576e2489285dbfc20f78beff5",
      "c6e904d645fe472e8723727dc14e2ee7",
      "8ec99ea77b704df1ad9e9a730e1b52df",
      "ad217ee920f941918a62ac648087ac2c",
      "03ef7dc3130f43919cbc1880f1fbbaab",
      "385e38125efc45fc85405d3cce368e1f",
      "0eecac6946314971a31003fdcf884e24",
      "3cdd6aee65484f78930e0f80d0acd38d",
      "c21933dabbd54293943983e87c9c3ebd",
      "e96291a2168c490eb9a75082fce82f04",
      "03e1f384a0da499cbfadaab6145de2e8",
      "cecf9bb281a240a1ab08b18e65b094a9",
      "5f150061f4ed4fc7a413871ae6dc84c3",
      "00367f7f07ae498982ccf05b01efdb27",
      "1614607c61704ffeb5b7329b3c8a3927",
      "ba5c6005527f41be95eb687b33b07d64",
      "5d03cdfb47a54313b308bdc2abdfbc13",
      "8f45a393b9084faea79a8322ecd7cd66",
      "82497b87b290422eb3c2eb712caf5f03",
      "8e248027654e45308697ac434c9649d2",
      "d0f829c2767546b7b846ff6be8280b58"
     ]
    },
    "executionInfo": {
     "elapsed": 10396,
     "status": "ok",
     "timestamp": 1729425580686,
     "user": {
      "displayName": "Shaurya Damathia",
      "userId": "14598933962405927679"
     },
     "user_tz": -330
    },
    "id": "l1tmjkuwy5Ax",
    "outputId": "f233f710-3186-4f09-995c-d200f5ce7ccf"
   },
   "outputs": [],
   "source": [
    "setup(data = data, transformation = True, transformation_method = 'yeo-johnson', verbose=False)\n",
    "r7 = []\n",
    "r8 = []\n",
    "r9 = []\n",
    "\n",
    "print(\"Transformation\\n\")\n",
    "print(\"For Cluster = 3\")\n",
    "x = create_model('kmeans', num_clusters = 3)\n",
    "labels=x.fit_predict(data)\n",
    "r7.append(silhouette_score(data,labels))\n",
    "r7.append(calinski_harabasz_score(data,labels))\n",
    "r7.append(davies_bouldin_score(data,labels))\n",
    "\n",
    "print(\"For Cluster = 4\")\n",
    "x = create_model('kmeans', num_clusters = 4)\n",
    "labels=x.fit_predict(data)\n",
    "r8.append(silhouette_score(data,labels))\n",
    "r8.append(calinski_harabasz_score(data,labels))\n",
    "r8.append(davies_bouldin_score(data,labels))\n",
    "\n",
    "print(\"For Cluster = 5\")\n",
    "x = create_model('kmeans', num_clusters = 5)\n",
    "labels=x.fit_predict(data)\n",
    "r9.append(silhouette_score(data,labels))\n",
    "r9.append(calinski_harabasz_score(data,labels))\n",
    "r9.append(davies_bouldin_score(data,labels))\n",
    "\n",
    "plot_model(x, plot = 'cluster')\n",
    "\n",
    "\n",
    "plot_model(x, plot = 'elbow')\n",
    "plot_model(x, plot = 'tsne')\n"
   ]
  },
  {
   "cell_type": "code",
   "execution_count": null,
   "metadata": {
    "colab": {
     "base_uri": "https://localhost:8080/",
     "height": 1000,
     "referenced_widgets": [
      "5a394f7b42cc4b08b4a705f64701964f",
      "6f8b6e1bda79450eb3216e592f268d20",
      "9104e0e8a88d4743a58e085fc3141791",
      "2615cae23ed040a5aaa16b0e7530a3ef",
      "06dbcf9ccf5d4a9d9a3182379e53716f",
      "edfd6568ddaf4f90bc6d9aa345b2697d",
      "7239d26d2ea641e5bc7b319faa4c9765",
      "c729b58c609948c18062c97cf8abc07f",
      "713444c9709840d18e842cbf0dd8e070",
      "7d0848770a4d421ca59fdf786fbd277c",
      "75081f3b91dd434c98cbd128d360c021",
      "57584e3fc45944049635114911485a70",
      "559d1fc1cbae44b8b8f62e165a3f3161",
      "5903e9cf3e424edf9760dce861d9473c",
      "d206d935b9774492aaab2f0785286604",
      "0e767d3581bd4e3d882195bc09f915c4",
      "c4f519c962454d7bba0fd6aa4e3e55a1",
      "0ce9b85353644266bba68b1d0a7c736d",
      "1bec7ddcdb954874a02e98d75f7c0099",
      "a100ff7640e34f5a88020c880d6ac8a4",
      "c2397caa59114ccf93be69ef788c5999",
      "a670edcbd62247fbaa6196441f9b031a",
      "5f50e6c0906340dda545edd6c5b6c3a8",
      "6d2d3fbfbdac45a0b944ded0b77b6212",
      "80e7cdd0316f40b4b99f0c1ddec3a3da",
      "e9f8a7dc147e41f2afec64b8dbc608ff",
      "5d86de6d8fe7478fb8deadd090807d71",
      "552d274bcc814eaaad1c30a381df18aa",
      "08dd96b2ca334088ad4be11f46d50f0e",
      "14f8cd87819c41039c6f26b32066020f",
      "3ec9f4989059487ba2cf88f2e91a3d43",
      "131b8cc5597e4ec0afe52ca9a7c39ca4",
      "072956c444d1442eb3322b1353e4241b"
     ]
    },
    "executionInfo": {
     "elapsed": 10260,
     "status": "ok",
     "timestamp": 1729425684113,
     "user": {
      "displayName": "Shaurya Damathia",
      "userId": "14598933962405927679"
     },
     "user_tz": -330
    },
    "id": "cbNARYIdzEpa",
    "outputId": "ef6a6062-c775-42c2-f4c6-f5310f7f88ef"
   },
   "outputs": [],
   "source": [
    "setup(data = data, pca = True, pca_method = 'linear', verbose=False)\n",
    "r10 = []\n",
    "r11 = []\n",
    "r12 = []\n",
    "\n",
    "print(\"PCA\\n\")\n",
    "print(\"For Cluster = 3\")\n",
    "x = create_model('kmeans', num_clusters = 3)\n",
    "labels=x.fit_predict(data)\n",
    "r10.append(silhouette_score(data,labels))\n",
    "r10.append(calinski_harabasz_score(data,labels))\n",
    "r10.append(davies_bouldin_score(data,labels))\n",
    "\n",
    "print(\"For Cluster = 4\")\n",
    "x = create_model('kmeans', num_clusters = 4)\n",
    "labels=x.fit_predict(data)\n",
    "r11.append(silhouette_score(data,labels))\n",
    "r11.append(calinski_harabasz_score(data,labels))\n",
    "r11.append(davies_bouldin_score(data,labels))\n",
    "\n",
    "print(\"For Cluster = 5\")\n",
    "x = create_model('kmeans', num_clusters = 5)\n",
    "labels=x.fit_predict(data)\n",
    "r12.append(silhouette_score(data,labels))\n",
    "r12.append(calinski_harabasz_score(data,labels))\n",
    "r12.append(davies_bouldin_score(data,labels))\n",
    "\n",
    "plot_model(x, plot = 'cluster')\n",
    "\n",
    "\n",
    "plot_model(x, plot = 'elbow')\n",
    "plot_model(x, plot = 'tsne')"
   ]
  },
  {
   "cell_type": "code",
   "execution_count": null,
   "metadata": {
    "colab": {
     "base_uri": "https://localhost:8080/",
     "height": 1000,
     "referenced_widgets": [
      "bd78118cce2d4a3f9fa501572b6f0346",
      "9ccb3a097c4449a4b1c84d237168bad4",
      "4e3cb8f681174c4cadc8a5accc0f518c",
      "34ec6a97f7fa460c9a7fc247130a3b1a",
      "d40009c535734952acc1758527d57f0e",
      "98b0ed7fc6de46689350b047a5fae4cb",
      "b3c65ba4f5c34d69a35d3aa087fc06a6",
      "5a61de3d94bf4ce4a20bc8cae96cfb01",
      "13d1754fe6d847508919000f265aaa52",
      "506198071718419b8a4db13b5265a053",
      "e8e6ac655b7540bf867d5caf628be1b8",
      "e721ffa5bd014c468ab1e5c96e364ec5",
      "9989b1ecb52d4e72b9fc73fe6c5ac66e",
      "c7e13a9c40c04bd1883da165ede2f1d7",
      "1f06207f58504ac9b33e945581aa2fa3",
      "6ca45bfd824c4dc0bda5cc7f5320abe3",
      "b29c49f964da41e68d2c7c05276611b6",
      "fd0baac411514687a2689ef0692cc4b0",
      "32a239e9078744e0bd1490d2df9fe053",
      "1ca60fad1f3f44a78ec8f28c572791b4",
      "92e5953daebb44af9963415cb4e0187a",
      "506d32b0ce6c48aba0b7f040253929b4",
      "782e98d9706e4d4ba7c1659806fc1ac3",
      "583498d006824c52acc85c9a76c4e40d",
      "1b7f94ec7efa455c8462a1ebdf139483",
      "e1abe55c363848e49e603b52ec43f26d",
      "b444c9ad18054f90a04489c6e7457e74",
      "c79440f6cbdf474f96a729350af1023f",
      "ed02d505953244ab9d12c5ee819202ac",
      "aa0917ce5d0c4111ba5c1f4c27cd02fb",
      "c3d5c4b4e55f422a8cdb8f50e6ec6ea3",
      "b5f51d22e3f846f3aa25a155f92adf7f",
      "760bda9a24cc4be7b1558276652adf8f"
     ]
    },
    "executionInfo": {
     "elapsed": 15363,
     "status": "ok",
     "timestamp": 1729425900498,
     "user": {
      "displayName": "Shaurya Damathia",
      "userId": "14598933962405927679"
     },
     "user_tz": -330
    },
    "id": "oEDwc1nk0JXL",
    "outputId": "52fbd392-58b8-4aee-8d9c-9054f36e5e88"
   },
   "outputs": [],
   "source": [
    "setup(data = data, normalize = True, normalize_method = 'zscore',\n",
    "      transformation = True, transformation_method = 'yeo-johnson', verbose=False)\n",
    "r13 = []\n",
    "r14 = []\n",
    "r15 = []\n",
    "print(\"Normalized and transformation\\n\")\n",
    "print(\"For Cluster = 3\")\n",
    "x = create_model('kmeans', num_clusters = 3)\n",
    "labels=x.fit_predict(data)\n",
    "r13.append(silhouette_score(data,labels))\n",
    "r13.append(calinski_harabasz_score(data,labels))\n",
    "r13.append(davies_bouldin_score(data,labels))\n",
    "\n",
    "print(\"For Cluster = 4\")\n",
    "x = create_model('kmeans', num_clusters = 4)\n",
    "labels=x.fit_predict(data)\n",
    "r14.append(silhouette_score(data,labels))\n",
    "r14.append(calinski_harabasz_score(data,labels))\n",
    "r14.append(davies_bouldin_score(data,labels))\n",
    "\n",
    "print(\"For Cluster = 5\")\n",
    "x = create_model('kmeans', num_clusters = 5)\n",
    "plot_model(x, plot = 'cluster')\n",
    "labels=x.fit_predict(data)\n",
    "r15.append(silhouette_score(data,labels))\n",
    "r15.append(calinski_harabasz_score(data,labels))\n",
    "r15.append(davies_bouldin_score(data,labels))\n",
    "\n",
    "plot_model(x, plot = 'elbow')\n",
    "plot_model(x, plot = 'tsne')"
   ]
  },
  {
   "cell_type": "code",
   "execution_count": null,
   "metadata": {
    "colab": {
     "base_uri": "https://localhost:8080/",
     "height": 1000,
     "referenced_widgets": [
      "c5652807dd0845bd902878d7ca8fa70e",
      "be66ba5119bb4cfbbfe3248c781b1218",
      "90f029bb49694f66891ee87dbf8196d6",
      "127a20251f2940d38194265b2e3d00a3",
      "035de1485b484b1ab1d09ab715144a2d",
      "fabba3e70ec241dc96438485cd57f761",
      "cab89219600e4250a19f2df9e5acba2d",
      "0eb6b28ec16b4ffe89049571a21b2caf",
      "0b11d953bf6f4fce871405a393ac921a",
      "a5a19e3d3ea24e799b2ad54ece4f25d5",
      "62c2956e11bb41a9a7e4de8fb334e340",
      "3520155584a443aeab0113f1ea08d1a8",
      "c85a5f47e4a946c78ee7af638ed4c544",
      "c2f1eec93b8941678833e9f45c8b106b",
      "366cca7460d14d3fa5e992265360d912",
      "9e079e609a214461825dce8cb6cf15fb",
      "99a0bc10fbf84b449321c6fbb649e92f",
      "61210090f106492dac2c79202dea3596",
      "22d304e2a107429e8a98943ed2ccbe7a",
      "b78ea5386f1e4c4f9433ecadd5dd41c9",
      "bfbaa1b550064fb5805322569a45f43a",
      "00235b3813ab46bfa44f259b982e91c6",
      "c0f2a1c459844f72a271d7cd91fcd12e",
      "7a4c1db94c4441c58de14320f5411035",
      "99e61750aec6423f928dcb0af01fd848",
      "7301ceaa918a4e6884d5631212192b02",
      "6bf5d75239324578a90f6589b8044a46",
      "83654c7274e04324b0a9b1750abf33a4",
      "121855fc169f4f2d81c813b125791142",
      "bb8bc63f2a71448385e9c6d387a9d2e5",
      "76bc16903e4f410085df2ed8e4a33b8f",
      "b7fb063e49ca4fcfbd421a6049dff9ff",
      "deb7028042474cff87463d684bd2c937"
     ]
    },
    "executionInfo": {
     "elapsed": 14753,
     "status": "ok",
     "timestamp": 1729426162731,
     "user": {
      "displayName": "Shaurya Damathia",
      "userId": "14598933962405927679"
     },
     "user_tz": -330
    },
    "id": "MbC44BXR0noa",
    "outputId": "e0aaf447-1e8d-42f1-e737-369af8861e1c"
   },
   "outputs": [],
   "source": [
    "setup(data = data, normalize = True, normalize_method = 'zscore',\n",
    "      transformation = True, transformation_method = 'yeo-johnson',\n",
    "      pca = True, pca_method = 'linear', verbose=False)\n",
    "\n",
    "r16 = []\n",
    "r17 = []\n",
    "r18 = []\n",
    "print(\"Normalized, transformation and PCA\\n\")\n",
    "print(\"For Cluster = 3\")\n",
    "x = create_model('kmeans', num_clusters = 3)\n",
    "labels=x.fit_predict(data)\n",
    "r16.append(silhouette_score(data,labels))\n",
    "r16.append(calinski_harabasz_score(data,labels))\n",
    "r16.append(davies_bouldin_score(data,labels))\n",
    "\n",
    "print(\"For Cluster = 4\")\n",
    "x = create_model('kmeans', num_clusters = 4)\n",
    "labels=x.fit_predict(data)\n",
    "r17.append(silhouette_score(data,labels))\n",
    "r17.append(calinski_harabasz_score(data,labels))\n",
    "r17.append(davies_bouldin_score(data,labels))\n",
    "\n",
    "print(\"For Cluster = 5\")\n",
    "x = create_model('kmeans', num_clusters = 5)\n",
    "labels=x.fit_predict(data)\n",
    "r18.append(silhouette_score(data,labels))\n",
    "r18.append(calinski_harabasz_score(data,labels))\n",
    "r18.append(davies_bouldin_score(data,labels))\n",
    "\n",
    "plot_model(x, plot = 'cluster')\n",
    "\n",
    "\n",
    "plot_model(x, plot = 'elbow')\n",
    "plot_model(x, plot = 'tsne')\n"
   ]
  },
  {
   "cell_type": "code",
   "execution_count": null,
   "metadata": {
    "id": "0gnSKOcD00Y9"
   },
   "outputs": [],
   "source": [
    "result1 = {'Parameters': ['Silhouette', 'Calinski-Harabasz', 'Davies-Bouldins'],\n",
    "           'No Data Processing(c=3)': r1,'No Data Processing(c=4)': r2,'No Data Processing(c=5)': r3,\n",
    "           'Using Normalization(c=3)' : r4,'Using Normalization(c=4)' : r5,'Using Normalization(c=5)' : r6,\n",
    "           'Using Transform(c=3)' : r7,'Using Transform(c=4)' : r8,'Using Transform(c=5)' : r9,\n",
    "           'Using PCA(c=3)' : r10,'Using PCA(c=4)' : r11,'Using PCA(c=5)' : r12,\n",
    "           'Using T + N(c=3)': r13,'Using T + N(c=4)': r14,'Using T + N(c=5)': r15,\n",
    "           'T + N + PCA(c=3)': r16,'T + N + PCA(c=4)': r17,'T + N + PCA(c=5)': r18}"
   ]
  },
  {
   "cell_type": "code",
   "execution_count": null,
   "metadata": {
    "id": "03xElAve1Tdm"
   },
   "outputs": [],
   "source": [
    "result1df = pd.DataFrame(result1)"
   ]
  },
  {
   "cell_type": "markdown",
   "metadata": {
    "id": "4SRWipPk1epQ"
   },
   "source": [
    "# **Hierarichal Clustering**"
   ]
  }
 ],
 "metadata": {
  "colab": {
   "authorship_tag": "ABX9TyOW1C47m4ckcTC6zunEZNtI",
   "provenance": []
  },
  "kernelspec": {
   "display_name": "Python 3",
   "name": "python3"
  },
  "language_info": {
   "name": "python"
  }
 },
 "nbformat": 4,
 "nbformat_minor": 0
}
